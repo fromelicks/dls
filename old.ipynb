{
 "cells": [
  {
   "cell_type": "code",
   "execution_count": 3,
   "metadata": {},
   "outputs": [],
   "source": [
    "def convert_to_base(num, base):\n",
    "    result = 0\n",
    "    multiplier = 1\n",
    "    while num > 0:\n",
    "        result += num % base * multiplier\n",
    "        num //= base\n",
    "        multiplier *= 10\n",
    "    return result\n",
    "\n",
    "def sum_digits(num):\n",
    "    sum = 0\n",
    "    while num > 0:\n",
    "        last_digit = num % 10\n",
    "        sum += last_digit\n",
    "        num //= 10\n",
    "    return sum"
   ]
  },
  {
   "cell_type": "code",
   "execution_count": 29,
   "metadata": {},
   "outputs": [
    {
     "name": "stdout",
     "output_type": "stream",
     "text": [
      "3\n"
     ]
    }
   ],
   "source": [
    "n = 10\n",
    "\n",
    "sample = [-23, -34, 101, 12, 34, 0]\n",
    "\n",
    "i = 0\n",
    "count = 0\n",
    "prev = 0\n",
    "times = 0\n",
    "max_count = 0\n",
    "\n",
    "for elem in sample:\n",
    "    elem_sum = sum_digits(convert_to_base(abs(elem), n))\n",
    "    # print(f\"{elem=}, {elem_sum=}, {prev=}\")\n",
    "    \n",
    "    if elem_sum > prev:\n",
    "        count += 1\n",
    "    else:\n",
    "        if count > 0:\n",
    "            times += 1\n",
    "\n",
    "        if count > max_count:\n",
    "            max_count = count\n",
    "\n",
    "        count = 0\n",
    "\n",
    "    prev = elem_sum\n",
    "    i += 1\n",
    "print(max_count + 1)"
   ]
  },
  {
   "cell_type": "code",
   "execution_count": 32,
   "metadata": {},
   "outputs": [
    {
     "name": "stdout",
     "output_type": "stream",
     "text": [
      "elem=-23, elem_sum=5, prev=0\n",
      "elem=-34, elem_sum=7, prev=5\n",
      "elem=101, elem_sum=2, prev=7\n",
      "elem=12, elem_sum=3, prev=2\n",
      "elem=34, elem_sum=7, prev=3\n",
      "2\n"
     ]
    }
   ],
   "source": [
    "n = int(input())\n",
    "\n",
    "i = 0\n",
    "count = 0\n",
    "prev = 0\n",
    "times = 0\n",
    "max_count = 0\n",
    "idx_max = None\n",
    "\n",
    "while (elem := int(input())) != 0:\n",
    "    elem_sum = sum_digits(convert_to_base(abs(elem), n))\n",
    "    print(f\"{elem=}, {elem_sum=}, {prev=}\")\n",
    "    if elem_sum > prev:\n",
    "        count += 1\n",
    "    else:\n",
    "        if count > 0:\n",
    "            times += 1\n",
    "\n",
    "        if times == 1:\n",
    "            idx_max = i\n",
    "\n",
    "        if count > max_count:\n",
    "            max_count = count\n",
    "\n",
    "        count = 0\n",
    "\n",
    "    prev = elem_sum\n",
    "    i += 1\n",
    "\n",
    "if times > 1:\n",
    "    print(max_count + 1, idx_max)\n",
    "else:\n",
    "    print(max_count + 1)"
   ]
  },
  {
   "cell_type": "code",
   "execution_count": 2,
   "metadata": {},
   "outputs": [
    {
     "data": {
      "text/plain": [
       "(123, 4)"
      ]
     },
     "execution_count": 2,
     "metadata": {},
     "output_type": "execute_result"
    }
   ],
   "source": [
    "N = 1234\n",
    "\n",
    "N // 10, N % 10"
   ]
  }
 ],
 "metadata": {
  "kernelspec": {
   "display_name": "Python 3",
   "language": "python",
   "name": "python3"
  },
  "language_info": {
   "codemirror_mode": {
    "name": "ipython",
    "version": 3
   },
   "file_extension": ".py",
   "mimetype": "text/x-python",
   "name": "python",
   "nbconvert_exporter": "python",
   "pygments_lexer": "ipython3",
   "version": "3.11.6"
  }
 },
 "nbformat": 4,
 "nbformat_minor": 2
}
